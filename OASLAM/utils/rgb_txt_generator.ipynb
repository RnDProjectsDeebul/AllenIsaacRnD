{
 "cells": [
  {
   "cell_type": "markdown",
   "id": "ba3f7486",
   "metadata": {},
   "source": [
    "**This script is used to generate rgb.txt within the rgb images folder for OA-SLAM. It contains two columns. First column indicating the timestamp and the second column indicating the image name in the format rgb/000001.png**"
   ]
  },
  {
   "cell_type": "code",
   "execution_count": 1,
   "id": "d0e238b3",
   "metadata": {},
   "outputs": [],
   "source": [
    "### IMPORT MODULES ###\n",
    "import os\n",
    "import glob"
   ]
  },
  {
   "cell_type": "code",
   "execution_count": 16,
   "id": "b10a48df",
   "metadata": {},
   "outputs": [],
   "source": [
    "### PATH TO DATASET ###\n",
    "data_path = './000053/'\n",
    "folder_path = data_path + 'rgb/' # Will be greping the image names within rgb folder\n",
    "\n",
    "# Use the glob module to find all image files in the folder with .png format\n",
    "image_files = glob.glob(os.path.join(folder_path, '*.png'))\n",
    "\n",
    "# Sort the image files in alphabetical order\n",
    "image_files.sort()\n",
    "\n",
    "filename = [] # to store the filenames\n",
    "timestamp = [] # to store the timestamp of the image\n",
    "\n",
    "# rgb/000001.png -> formating\n",
    "for image_file in image_files:\n",
    "    file_name = os.path.basename(image_file)\n",
    "    filename.append('rgb/' + file_name)\n",
    "\n",
    "fps = 10 # fps of the image sequence\n",
    "timestamp = [i/fps for i in range(1, len(image_files)+1)]"
   ]
  },
  {
   "cell_type": "code",
   "execution_count": 17,
   "id": "076cc2d3",
   "metadata": {},
   "outputs": [],
   "source": [
    "# some header files -> Not important\n",
    "header_lines = ['# color images', '# file: BOP dataset', '# timestamp filename']"
   ]
  },
  {
   "cell_type": "code",
   "execution_count": 18,
   "id": "75e05db2",
   "metadata": {},
   "outputs": [],
   "source": [
    "# Creating the rgb.txt file in the rgb folder\n",
    "file_path = data_path + 'rgb.txt'\n",
    "\n",
    "with open(file_path, 'w') as file:\n",
    "    \n",
    "    # Write the header lines to the file\n",
    "    for header in header_lines:\n",
    "        file.write(header + '\\n')\n",
    "\n",
    "    # Write the data columns to the file\n",
    "    for value1, value2 in zip(timestamp, filename):\n",
    "        line = f\"{value1} {value2}\\n\"\n",
    "        file.write(line)"
   ]
  }
 ],
 "metadata": {
  "kernelspec": {
   "display_name": "Python 3 (ipykernel)",
   "language": "python",
   "name": "python3"
  },
  "language_info": {
   "codemirror_mode": {
    "name": "ipython",
    "version": 3
   },
   "file_extension": ".py",
   "mimetype": "text/x-python",
   "name": "python",
   "nbconvert_exporter": "python",
   "pygments_lexer": "ipython3",
   "version": "3.9.13"
  }
 },
 "nbformat": 4,
 "nbformat_minor": 5
}
