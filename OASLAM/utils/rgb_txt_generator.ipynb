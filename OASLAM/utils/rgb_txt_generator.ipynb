{
 "cells": [
  {
   "cell_type": "markdown",
   "id": "ba3f7486",
   "metadata": {},
   "source": [
    "**This script is used to generate rgb.txt within the rgb images folder for OA-SLAM. It contains one columns indicating the image name in the format rgb/000001.png**"
   ]
  },
  {
   "cell_type": "code",
   "execution_count": 15,
   "id": "d0e238b3",
   "metadata": {},
   "outputs": [],
   "source": [
    "### IMPORT MODULES ###\n",
    "import os\n",
    "import glob"
   ]
  },
  {
   "cell_type": "code",
   "execution_count": 16,
   "id": "b10a48df",
   "metadata": {},
   "outputs": [],
   "source": [
    "### PATH TO DATASET ###\n",
    "dataset_path = '/home/allen/Desktop/RnD_Github/AllenIsaacRnD/dataset/'\n",
    "output_file = 'rgb.txt'\n",
    "\n",
    "datasets = []\n",
    "\n",
    "for folder in os.listdir(dataset_path):\n",
    "    folder_path = os.path.join(dataset_path, folder)\n",
    "\n",
    "    if os.path.isdir(folder_path) and not folder.startswith('.'):\n",
    "        datasets.append(folder_path)\n",
    "        \n",
    "datasets.sort()"
   ]
  },
  {
   "cell_type": "code",
   "execution_count": 17,
   "id": "75e05db2",
   "metadata": {},
   "outputs": [
    {
     "name": "stdout",
     "output_type": "stream",
     "text": [
      "File list created successfully.\n",
      "File list created successfully.\n",
      "File list created successfully.\n"
     ]
    }
   ],
   "source": [
    "for data_path in datasets:\n",
    "\n",
    "    folder_path = data_path + '/rgb/' # Will be greping the image names within rgb folder\n",
    "    output_file = 'rgb.txt'\n",
    "\n",
    "    # Get the list of files in the folder\n",
    "    file_list = sorted(os.listdir(folder_path))\n",
    "\n",
    "    # Create the output file and write the file names\n",
    "    with open(folder_path + output_file, 'w') as f:\n",
    "        for file_name in file_list:\n",
    "            f.write(file_name + '\\n')\n",
    "\n",
    "    print('File list created successfully.')"
   ]
  },
  {
   "cell_type": "code",
   "execution_count": null,
   "id": "64f937f1",
   "metadata": {},
   "outputs": [],
   "source": []
  }
 ],
 "metadata": {
  "kernelspec": {
   "display_name": "Python 3 (ipykernel)",
   "language": "python",
   "name": "python3"
  },
  "language_info": {
   "codemirror_mode": {
    "name": "ipython",
    "version": 3
   },
   "file_extension": ".py",
   "mimetype": "text/x-python",
   "name": "python",
   "nbconvert_exporter": "python",
   "pygments_lexer": "ipython3",
   "version": "3.9.13"
  }
 },
 "nbformat": 4,
 "nbformat_minor": 5
}
