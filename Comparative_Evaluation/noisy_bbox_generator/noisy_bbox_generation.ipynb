{
 "cells": [
  {
   "cell_type": "markdown",
   "id": "c10f8bf6",
   "metadata": {},
   "source": [
    "**This script is to read the scene_gt_info.json file, and the vary the bounding box parameters based on**\n",
    "1. Removing the bounding box for a particular object\n",
    "2. vary the width\n",
    "3. vary the height\n",
    "4. vary the width and height\n",
    "5. vary the center of the bounding box"
   ]
  },
  {
   "cell_type": "markdown",
   "id": "3ff31eec",
   "metadata": {},
   "source": [
    "### Import Modules"
   ]
  },
  {
   "cell_type": "code",
   "execution_count": 17,
   "id": "b7da4c12",
   "metadata": {},
   "outputs": [],
   "source": [
    "import json\n",
    "import random\n",
    "import copy"
   ]
  },
  {
   "cell_type": "markdown",
   "id": "a8ac685c",
   "metadata": {},
   "source": [
    "### Ground truth path"
   ]
  },
  {
   "cell_type": "code",
   "execution_count": 18,
   "id": "d1f60bed",
   "metadata": {},
   "outputs": [],
   "source": [
    "# Folder containing the BOP dataset formated files\n",
    "gt_data_path = \"/home/allen/Desktop/RnD_Github/AllenIsaacRnD/noisy_bounding_box_experiment/noisy_scene/\""
   ]
  },
  {
   "cell_type": "markdown",
   "id": "c1209244",
   "metadata": {},
   "source": [
    "### Reading File"
   ]
  },
  {
   "cell_type": "code",
   "execution_count": 19,
   "id": "75cb8984",
   "metadata": {},
   "outputs": [],
   "source": [
    "f = open(gt_data_path + 'scene_gt_info_actual.json')\n",
    "data = json.load(f)"
   ]
  },
  {
   "cell_type": "code",
   "execution_count": 20,
   "id": "b16474a9",
   "metadata": {},
   "outputs": [],
   "source": [
    "obj_count = len(data[list(data.keys())[0]])"
   ]
  },
  {
   "cell_type": "code",
   "execution_count": 21,
   "id": "67af1ba0",
   "metadata": {},
   "outputs": [],
   "source": [
    "noise = 3"
   ]
  },
  {
   "cell_type": "markdown",
   "id": "c0a0f8d9",
   "metadata": {},
   "source": [
    "### Adding the noise"
   ]
  },
  {
   "cell_type": "markdown",
   "id": "2aad5fca",
   "metadata": {},
   "source": [
    "(x, y, width, height) - bounding box format"
   ]
  },
  {
   "cell_type": "code",
   "execution_count": 22,
   "id": "f1fb79e1",
   "metadata": {},
   "outputs": [],
   "source": [
    "for k,v in data.items():\n",
    "    \n",
    "    obj_index_randomized = random.sample(range(obj_count), obj_count)\n",
    "    \n",
    "    updated_v = []\n",
    "    \n",
    "    # vary the width of 1 object\n",
    "    data[k][obj_index_randomized[0]]['bbox_obj'][2] += random.uniform(-noise, noise)\n",
    "    updated_v.append(data[k][obj_index_randomized[0]])\n",
    "    \n",
    "    # vary the height of 1 object\n",
    "    data[k][obj_index_randomized[1]]['bbox_obj'][3] += random.uniform(-noise, noise)\n",
    "    updated_v.append(data[k][obj_index_randomized[1]])\n",
    "    \n",
    "    # vary the x bias\n",
    "    data[k][obj_index_randomized[2]]['bbox_obj'][0] += random.uniform(-noise, noise)\n",
    "    updated_v.append(data[k][obj_index_randomized[2]])\n",
    "    \n",
    "    # vary the y bias\n",
    "    data[k][obj_index_randomized[3]]['bbox_obj'][1] += random.uniform(-noise, noise)\n",
    "    updated_v.append(data[k][obj_index_randomized[3]])\n",
    "    \n",
    "    # delete the last boundingbox\n",
    "    \n",
    "    data[k] = updated_v"
   ]
  },
  {
   "cell_type": "markdown",
   "id": "5d64dc62",
   "metadata": {},
   "source": [
    "### Saving the file"
   ]
  },
  {
   "cell_type": "code",
   "execution_count": 23,
   "id": "64b40549",
   "metadata": {},
   "outputs": [],
   "source": [
    "with open(gt_data_path + 'scene_gt_info.json', \"w\") as json_file:\n",
    "    json.dump(data, json_file, indent=4)  # indent for pretty formatting"
   ]
  },
  {
   "cell_type": "code",
   "execution_count": null,
   "id": "7cea6151",
   "metadata": {},
   "outputs": [],
   "source": []
  },
  {
   "cell_type": "code",
   "execution_count": null,
   "id": "6d4d540c",
   "metadata": {},
   "outputs": [],
   "source": []
  }
 ],
 "metadata": {
  "kernelspec": {
   "display_name": "Python 3 (ipykernel)",
   "language": "python",
   "name": "python3"
  },
  "language_info": {
   "codemirror_mode": {
    "name": "ipython",
    "version": 3
   },
   "file_extension": ".py",
   "mimetype": "text/x-python",
   "name": "python",
   "nbconvert_exporter": "python",
   "pygments_lexer": "ipython3",
   "version": "3.10.9"
  }
 },
 "nbformat": 4,
 "nbformat_minor": 5
}
