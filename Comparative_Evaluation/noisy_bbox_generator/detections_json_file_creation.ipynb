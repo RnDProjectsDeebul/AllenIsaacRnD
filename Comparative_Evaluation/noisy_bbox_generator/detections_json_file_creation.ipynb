{
 "cells": [
  {
   "cell_type": "markdown",
   "id": "2a890828",
   "metadata": {},
   "source": [
    "**This script reads the scene_gt_info.json, scene_gt.json from BOP Dataset format and rgb.txt created using rgb_txt_generator.ipynb. It will convert this format into the bounding box format that is needed for the OA-SLAM detections_yolov5.json**"
   ]
  },
  {
   "cell_type": "code",
   "execution_count": 4,
   "id": "78dea842",
   "metadata": {},
   "outputs": [],
   "source": [
    "#### IMPORT MODULES ####\n",
    "import json\n",
    "import glob\n",
    "import os"
   ]
  },
  {
   "cell_type": "code",
   "execution_count": 5,
   "id": "7959e17c",
   "metadata": {},
   "outputs": [],
   "source": [
    "### PATH TO DATASET ###\n",
    "datasets = [\"/home/allen/Desktop/RnD_Github/AllenIsaacRnD/noisy_bounding_box_experiment/noisy_scene\"]"
   ]
  },
  {
   "cell_type": "code",
   "execution_count": 6,
   "id": "17ba6efd",
   "metadata": {},
   "outputs": [
    {
     "name": "stdout",
     "output_type": "stream",
     "text": [
      "JSON file created successfully.\n"
     ]
    }
   ],
   "source": [
    "for data_path in datasets:\n",
    "\n",
    "    ### JSON files in BOP format are to be accessed ###\n",
    "    scene_gt_info_path = data_path + '/scene_gt_info.json'\n",
    "\n",
    "    ### rgb.txt file which is created using rgb_txt_generator.ipynb\n",
    "    RGB_txt_path = data_path + '/rgb/rgb.txt'\n",
    "\n",
    "    ### output file that is generated\n",
    "    output_file = data_path + '/detections_yolov5.json'\n",
    "    \n",
    "    \n",
    "    \n",
    "    ### Access the name of the images from rgb.txt\n",
    "    with open(RGB_txt_path, 'r') as file:\n",
    "        lines = file.readlines()\n",
    "\n",
    "    images = []\n",
    "    # Access the data from the text file\n",
    "    for line in lines:\n",
    "        # Perform operations on each line of data\n",
    "        # For example, printing the content:\n",
    "        images.append(line.strip())\n",
    "        \n",
    "    # Read the JSON file\n",
    "    with open(scene_gt_info_path, 'r') as f:\n",
    "        scene_gt_info_data = json.load(f)\n",
    " \n",
    "\n",
    "    output_json = [] ## data that is to be appended into the json file\n",
    "\n",
    "\n",
    "    # key is image name and value is the bounding box info of each object\n",
    "    for idx in range(len(scene_gt_info_data)):\n",
    "        temp1 = dict()\n",
    "        key = str(int(images[idx].split(\".\")[0])) ## get int of image name which is the key\n",
    "        value = scene_gt_info_data[key]\n",
    "        temp1['file_name'] = images[idx]\n",
    "        temp1['detections'] = []\n",
    "\n",
    "        # iterate through each object in the image\n",
    "        for o in range(len(value)):\n",
    "            temp2 = dict()\n",
    "            # get the object class id\n",
    "            temp2['category_id'] = int(value[o]['class_label'])\n",
    "            # since detection score is not present in BOP dataset,\n",
    "            # we take it as visible fraction\n",
    "            #temp2['detection_score'] = value[o]['visib_fract'] ## changed for current need\n",
    "            temp2['detection_score'] = 0.95\n",
    "\n",
    "            # need to check if the bounding box is correct\n",
    "            # (x, y, width, height) is what is given in BOP dataset where (x,y) is top left corner\n",
    "            # temp2['bbox'] = value[o]['bbox_obj'] # try 'bbox_visib' also\n",
    "            # (x1, y1, x2, y2) for detectron, the left top corner and right bottom corner\n",
    "            temp2['bbox'] = value[o]['bbox_obj']\n",
    "            temp2['bbox'][2] += temp2['bbox'][0]\n",
    "            temp2['bbox'][3] += temp2['bbox'][1]\n",
    "\n",
    "            temp1['detections'].append(temp2)\n",
    "\n",
    "\n",
    "        output_json.append(temp1)\n",
    "        \n",
    "    ### Save the list of data as a JSON file\n",
    "    with open(output_file, 'w') as file:\n",
    "        json.dump(output_json, file)\n",
    "\n",
    "    print('JSON file created successfully.')"
   ]
  },
  {
   "cell_type": "code",
   "execution_count": null,
   "id": "9d05774d",
   "metadata": {},
   "outputs": [],
   "source": []
  },
  {
   "cell_type": "code",
   "execution_count": null,
   "id": "1d7b505f",
   "metadata": {},
   "outputs": [],
   "source": []
  }
 ],
 "metadata": {
  "kernelspec": {
   "display_name": "Python 3 (ipykernel)",
   "language": "python",
   "name": "python3"
  },
  "language_info": {
   "codemirror_mode": {
    "name": "ipython",
    "version": 3
   },
   "file_extension": ".py",
   "mimetype": "text/x-python",
   "name": "python",
   "nbconvert_exporter": "python",
   "pygments_lexer": "ipython3",
   "version": "3.10.9"
  }
 },
 "nbformat": 4,
 "nbformat_minor": 5
}
