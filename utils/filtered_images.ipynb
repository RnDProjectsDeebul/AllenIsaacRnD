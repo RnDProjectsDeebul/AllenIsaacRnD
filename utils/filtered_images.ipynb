{
 "cells": [
  {
   "cell_type": "markdown",
   "id": "7484b7c0",
   "metadata": {},
   "source": [
    "**This file is used to generated gaussian blur and median blur filtered images from the actual noisy rgb dataset**"
   ]
  },
  {
   "cell_type": "code",
   "execution_count": 21,
   "id": "3ceff1d6",
   "metadata": {},
   "outputs": [],
   "source": [
    "### Import Modules ###\n",
    "import os\n",
    "import cv2"
   ]
  },
  {
   "cell_type": "code",
   "execution_count": 18,
   "id": "4428c5c2",
   "metadata": {},
   "outputs": [],
   "source": [
    "### BLOCK TO SET THE NOISE REMOVAL PROCESS AND THE KERNEL SIZE AND THE DATASET NAME\n",
    "# just change the process and kernel and dataset here.\n",
    "\n",
    "# process = 'GaussianBlur'\n",
    "process = 'medianBlur'\n",
    "\n",
    "# 3,5,7\n",
    "kernel = 7\n",
    "\n",
    "dataset = '000048'"
   ]
  },
  {
   "cell_type": "code",
   "execution_count": 22,
   "id": "2507f679",
   "metadata": {},
   "outputs": [],
   "source": [
    "### MAIN FUNCTION that takes in the process, kernal size and the dataset name\n",
    "### and generates the processed images into the output folder\n",
    "\n",
    "def do(process, kernel, dataset):\n",
    "    # Define paths for input and output folders\n",
    "    input_folder = \"/home/allen/Desktop/BOP_dataset_oaslam/ycbv/test/\" + dataset + \"/rgb\"\n",
    "    output_folder = \"processed_images/\" + process + \"/kernel_\" + str(kernel) + \"/\" + dataset + \"/rgb/\"\n",
    "\n",
    "    # Ensure the output folder exists\n",
    "    if not os.path.exists(output_folder):\n",
    "        os.makedirs(output_folder)\n",
    "\n",
    "    # Iterate through images in the input folder\n",
    "    for filename in os.listdir(input_folder):\n",
    "        if filename.endswith('.png'):  # Filter supported image formats\n",
    "            # Read the image\n",
    "            image_path = os.path.join(input_folder, filename)\n",
    "            img = cv2.imread(image_path)\n",
    "\n",
    "            if process == 'GaussianBlur':\n",
    "                # Apply Gaussian blur to remove noise\n",
    "                blurred_img = cv2.GaussianBlur(img, (kernel, kernel), 0)  # Adjust the kernel size, std\n",
    "            else:\n",
    "                # Apply median filter to remove noise\n",
    "                blurred_img = cv2.medianBlur(img, kernel)  # Adjust the kernel size as needed\n",
    "\n",
    "            # Save the processed image in the output folder with the same filename\n",
    "            output_path = os.path.join(output_folder, filename)\n",
    "            cv2.imwrite(output_path, blurred_img)\n",
    "\n",
    "            # print(f\"Processed: {filename} -> Saved as: {output_path}\")\n",
    "\n",
    "    print(\"Image processing complete!\")"
   ]
  },
  {
   "cell_type": "code",
   "execution_count": 23,
   "id": "f25d5bff",
   "metadata": {},
   "outputs": [
    {
     "name": "stdout",
     "output_type": "stream",
     "text": [
      "Image processing complete!\n",
      "Image processing complete!\n",
      "Image processing complete!\n",
      "Image processing complete!\n",
      "Image processing complete!\n",
      "Image processing complete!\n",
      "Image processing complete!\n",
      "Image processing complete!\n",
      "Image processing complete!\n",
      "Image processing complete!\n",
      "Image processing complete!\n",
      "Image processing complete!\n",
      "Image processing complete!\n",
      "Image processing complete!\n",
      "Image processing complete!\n",
      "Image processing complete!\n",
      "Image processing complete!\n",
      "Image processing complete!\n",
      "Image processing complete!\n",
      "Image processing complete!\n",
      "Image processing complete!\n",
      "Image processing complete!\n",
      "Image processing complete!\n",
      "Image processing complete!\n",
      "Image processing complete!\n",
      "Image processing complete!\n",
      "Image processing complete!\n",
      "Image processing complete!\n",
      "Image processing complete!\n",
      "Image processing complete!\n"
     ]
    }
   ],
   "source": [
    "datasets = ['000050', '000052', '000054', '000056', '000059'] # datasets for processing\n",
    "kernels = [3, 5, 7] # kernels that are considered\n",
    "processes = ['GaussianBlur', 'medianBlur'] # the processes\n",
    "\n",
    "# perform the filtering of all datasets\n",
    "for dataset in datasets:\n",
    "    for kernel in kernels:\n",
    "        for process in processes:\n",
    "            do(process, kernel, dataset)\n",
    "        "
   ]
  },
  {
   "cell_type": "code",
   "execution_count": null,
   "id": "5bc519d8",
   "metadata": {},
   "outputs": [],
   "source": []
  }
 ],
 "metadata": {
  "kernelspec": {
   "display_name": "Python 3 (ipykernel)",
   "language": "python",
   "name": "python3"
  },
  "language_info": {
   "codemirror_mode": {
    "name": "ipython",
    "version": 3
   },
   "file_extension": ".py",
   "mimetype": "text/x-python",
   "name": "python",
   "nbconvert_exporter": "python",
   "pygments_lexer": "ipython3",
   "version": "3.9.13"
  }
 },
 "nbformat": 4,
 "nbformat_minor": 5
}
